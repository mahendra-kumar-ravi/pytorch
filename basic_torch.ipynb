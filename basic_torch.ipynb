{
 "cells": [
  {
   "cell_type": "markdown",
   "id": "b701244a",
   "metadata": {},
   "source": [
    "### This is the Torch introduction video "
   ]
  },
  {
   "cell_type": "code",
   "execution_count": 2,
   "id": "60d0831c",
   "metadata": {},
   "outputs": [],
   "source": [
    "import torch\n",
    "t1 = torch.tensor(4.)"
   ]
  },
  {
   "cell_type": "code",
   "execution_count": 3,
   "id": "205ada17",
   "metadata": {},
   "outputs": [
    {
     "data": {
      "text/plain": [
       "tensor(4.)"
      ]
     },
     "execution_count": 3,
     "metadata": {},
     "output_type": "execute_result"
    }
   ],
   "source": [
    "t1"
   ]
  },
  {
   "cell_type": "code",
   "execution_count": 4,
   "id": "2e79231b",
   "metadata": {},
   "outputs": [
    {
     "data": {
      "text/plain": [
       "torch.float32"
      ]
     },
     "execution_count": 4,
     "metadata": {},
     "output_type": "execute_result"
    }
   ],
   "source": [
    "t1.dtype"
   ]
  },
  {
   "cell_type": "code",
   "execution_count": 9,
   "id": "73dc42cf",
   "metadata": {},
   "outputs": [
    {
     "data": {
      "text/plain": [
       "tensor([1, 2, 3, 4])"
      ]
     },
     "execution_count": 9,
     "metadata": {},
     "output_type": "execute_result"
    }
   ],
   "source": [
    "# vector\n",
    "t2 = torch.tensor([1,2.,3,4]) #if any one value become higer order all values becomes at higher order datatype\n",
    "# t2 = torch.tensor([1,2,3,4]) \n",
    "t2"
   ]
  },
  {
   "cell_type": "code",
   "execution_count": 14,
   "id": "02246035",
   "metadata": {},
   "outputs": [
    {
     "data": {
      "text/plain": [
       "tensor([[1, 2],\n",
       "        [3, 4],\n",
       "        [5, 6]])"
      ]
     },
     "execution_count": 14,
     "metadata": {},
     "output_type": "execute_result"
    }
   ],
   "source": [
    "#2d tensor  \n",
    "t3 = torch.tensor([[1,2],\n",
    "       [3,4],\n",
    "       [5,6]])\n",
    "t3"
   ]
  },
  {
   "cell_type": "code",
   "execution_count": 24,
   "id": "f9c70415",
   "metadata": {},
   "outputs": [
    {
     "data": {
      "text/plain": [
       "tensor([[[1, 2],\n",
       "         [3, 4],\n",
       "         [5, 6]],\n",
       "\n",
       "        [[9, 8],\n",
       "         [7, 6],\n",
       "         [2, 3]]])"
      ]
     },
     "execution_count": 24,
     "metadata": {},
     "output_type": "execute_result"
    }
   ],
   "source": [
    "# 3D tensor\n",
    "t4 = torch.tensor([[[1,2],[3,4],[5,6]]\n",
    "                   ,[[9,8],[7,6],[2,3]]])\n",
    "t4"
   ]
  },
  {
   "cell_type": "code",
   "execution_count": 22,
   "id": "b3b074e6",
   "metadata": {},
   "outputs": [
    {
     "name": "stdout",
     "output_type": "stream",
     "text": [
      "torch.Size([])\n",
      "torch.Size([4])\n",
      "torch.Size([3, 2])\n",
      "torch.Size([2, 3, 2])\n"
     ]
    }
   ],
   "source": [
    "print(t1.shape)\n",
    "print(t2.shape)\n",
    "print(t3.shape)\n",
    "print(t4.shape)\n",
    "\n"
   ]
  },
  {
   "cell_type": "markdown",
   "id": "ee733f73",
   "metadata": {},
   "source": [
    "### Tensor Operations "
   ]
  },
  {
   "cell_type": "code",
   "execution_count": 33,
   "id": "73bd365a",
   "metadata": {},
   "outputs": [
    {
     "data": {
      "text/plain": [
       "(tensor(3.), tensor(4., requires_grad=True), tensor(5., requires_grad=True))"
      ]
     },
     "execution_count": 33,
     "metadata": {},
     "output_type": "execute_result"
    }
   ],
   "source": [
    "x = torch.tensor(3.)\n",
    "w = torch.tensor(4.,requires_grad=True)\n",
    "b = torch.tensor(5.,requires_grad=True)\n",
    "\n",
    "x,w,b"
   ]
  },
  {
   "cell_type": "code",
   "execution_count": 39,
   "id": "96370133",
   "metadata": {},
   "outputs": [
    {
     "data": {
      "text/plain": [
       "tensor(17., grad_fn=<AddBackward0>)"
      ]
     },
     "execution_count": 39,
     "metadata": {},
     "output_type": "execute_result"
    }
   ],
   "source": [
    "y = x*w+b\n",
    "y"
   ]
  },
  {
   "cell_type": "code",
   "execution_count": 40,
   "id": "9bb4c994",
   "metadata": {},
   "outputs": [],
   "source": [
    "# Compute derivatives\n",
    "y.backward()"
   ]
  },
  {
   "cell_type": "code",
   "execution_count": 43,
   "id": "e5a7f2aa",
   "metadata": {},
   "outputs": [
    {
     "name": "stdout",
     "output_type": "stream",
     "text": [
      "tensor(3.)\n"
     ]
    }
   ],
   "source": [
    "# contains the gradients int he required_grads=True\n",
    "print(w.grad)"
   ]
  },
  {
   "cell_type": "code",
   "execution_count": 44,
   "id": "b4042e20",
   "metadata": {},
   "outputs": [
    {
     "name": "stdout",
     "output_type": "stream",
     "text": [
      "dy/dx :  None\n",
      "dy/dw :  tensor(3.)\n",
      "dy/db :  tensor(1.)\n"
     ]
    }
   ],
   "source": [
    "print(\"dy/dx : \", x.grad)\n",
    "print(\"dy/dw : \", w.grad)\n",
    "print(\"dy/db : \", b.grad)\n"
   ]
  },
  {
   "cell_type": "markdown",
   "id": "1f15932c",
   "metadata": {},
   "source": [
    "### Tensor Function"
   ]
  },
  {
   "cell_type": "code",
   "execution_count": 63,
   "id": "6035bce2",
   "metadata": {},
   "outputs": [
    {
     "data": {
      "text/plain": [
       "tensor([[10, 10, 10],\n",
       "        [10, 10, 10],\n",
       "        [10, 10, 10]])"
      ]
     },
     "execution_count": 63,
     "metadata": {},
     "output_type": "execute_result"
    }
   ],
   "source": [
    "# Creating the tensor and full fill with a single value \n",
    "t6 = torch.full((3,3),10)\n",
    "t6"
   ]
  },
  {
   "cell_type": "code",
   "execution_count": 60,
   "id": "8b49b9a4",
   "metadata": {},
   "outputs": [
    {
     "data": {
      "text/plain": [
       "tensor([[1, 2],\n",
       "        [3, 4],\n",
       "        [5, 6]])"
      ]
     },
     "execution_count": 60,
     "metadata": {},
     "output_type": "execute_result"
    }
   ],
   "source": [
    "t3"
   ]
  },
  {
   "cell_type": "code",
   "execution_count": 64,
   "id": "310d95fe",
   "metadata": {},
   "outputs": [
    {
     "data": {
      "text/plain": [
       "tensor([[12, 12, 12],\n",
       "        [12, 12, 12],\n",
       "        [12, 12, 12]])"
      ]
     },
     "execution_count": 64,
     "metadata": {},
     "output_type": "execute_result"
    }
   ],
   "source": [
    "t = torch.full((3,3),12)\n",
    "t"
   ]
  },
  {
   "cell_type": "code",
   "execution_count": 68,
   "id": "18896346",
   "metadata": {},
   "outputs": [
    {
     "data": {
      "text/plain": [
       "tensor([[10, 10, 10],\n",
       "        [10, 10, 10],\n",
       "        [10, 10, 10],\n",
       "        [12, 12, 12],\n",
       "        [12, 12, 12],\n",
       "        [12, 12, 12]])"
      ]
     },
     "execution_count": 68,
     "metadata": {},
     "output_type": "execute_result"
    }
   ],
   "source": [
    "t7 = torch.cat((t6,t))\n",
    "t7"
   ]
  },
  {
   "cell_type": "code",
   "execution_count": 69,
   "id": "26bbd9cc",
   "metadata": {},
   "outputs": [
    {
     "data": {
      "text/plain": [
       "tensor([[-0.5440, -0.5440, -0.5440],\n",
       "        [-0.5440, -0.5440, -0.5440],\n",
       "        [-0.5440, -0.5440, -0.5440],\n",
       "        [-0.5366, -0.5366, -0.5366],\n",
       "        [-0.5366, -0.5366, -0.5366],\n",
       "        [-0.5366, -0.5366, -0.5366]])"
      ]
     },
     "execution_count": 69,
     "metadata": {},
     "output_type": "execute_result"
    }
   ],
   "source": [
    "t8 = torch.sin(t7)\n",
    "t8"
   ]
  },
  {
   "cell_type": "code",
   "execution_count": 79,
   "id": "103231a9",
   "metadata": {},
   "outputs": [
    {
     "data": {
      "text/plain": [
       "tensor([[[-0.5440, -0.5440],\n",
       "         [-0.5440, -0.5440],\n",
       "         [-0.5440, -0.5440]],\n",
       "\n",
       "        [[-0.5440, -0.5440],\n",
       "         [-0.5440, -0.5366],\n",
       "         [-0.5366, -0.5366]],\n",
       "\n",
       "        [[-0.5366, -0.5366],\n",
       "         [-0.5366, -0.5366],\n",
       "         [-0.5366, -0.5366]]])"
      ]
     },
     "execution_count": 79,
     "metadata": {},
     "output_type": "execute_result"
    }
   ],
   "source": [
    "t9 = t8.reshape(3,3,2)\n",
    "t9"
   ]
  },
  {
   "cell_type": "markdown",
   "id": "3699a584",
   "metadata": {},
   "source": [
    "### Interportability of Numpy\n"
   ]
  },
  {
   "cell_type": "code",
   "execution_count": null,
   "id": "664980b4",
   "metadata": {},
   "outputs": [],
   "source": [
    "import numpy as np \n"
   ]
  },
  {
   "cell_type": "code",
   "execution_count": 83,
   "id": "7d9fa2e0",
   "metadata": {},
   "outputs": [
    {
     "data": {
      "text/plain": [
       "array([0, 1, 2, 3, 4, 5])"
      ]
     },
     "execution_count": 83,
     "metadata": {},
     "output_type": "execute_result"
    }
   ],
   "source": [
    "x = np.arange(6)\n",
    "x"
   ]
  },
  {
   "cell_type": "code",
   "execution_count": 88,
   "id": "95c64a8f",
   "metadata": {},
   "outputs": [
    {
     "data": {
      "text/plain": [
       "array([[0, 1],\n",
       "       [2, 3],\n",
       "       [4, 5]])"
      ]
     },
     "execution_count": 88,
     "metadata": {},
     "output_type": "execute_result"
    }
   ],
   "source": [
    "m = x.reshape(3,2)\n",
    "m"
   ]
  },
  {
   "cell_type": "code",
   "execution_count": 90,
   "id": "5d945461",
   "metadata": {},
   "outputs": [
    {
     "data": {
      "text/plain": [
       "tensor([[0, 1],\n",
       "        [2, 3],\n",
       "        [4, 5]])"
      ]
     },
     "execution_count": 90,
     "metadata": {},
     "output_type": "execute_result"
    }
   ],
   "source": [
    "y = torch.from_numpy(m)\n",
    "y"
   ]
  },
  {
   "cell_type": "code",
   "execution_count": null,
   "id": "8e909a73",
   "metadata": {},
   "outputs": [],
   "source": []
  }
 ],
 "metadata": {
  "kernelspec": {
   "display_name": "Python 3",
   "language": "python",
   "name": "python3"
  },
  "language_info": {
   "codemirror_mode": {
    "name": "ipython",
    "version": 3
   },
   "file_extension": ".py",
   "mimetype": "text/x-python",
   "name": "python",
   "nbconvert_exporter": "python",
   "pygments_lexer": "ipython3",
   "version": "3.12.3"
  }
 },
 "nbformat": 4,
 "nbformat_minor": 5
}
